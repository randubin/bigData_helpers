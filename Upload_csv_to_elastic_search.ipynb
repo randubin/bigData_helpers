{
 "cells": [
  {
   "cell_type": "markdown",
   "metadata": {},
   "source": [
    "# Import CSV to Elastic Search\n"
   ]
  },
  {
   "cell_type": "markdown",
   "metadata": {},
   "source": [
    "Imports"
   ]
  },
  {
   "cell_type": "code",
   "execution_count": null,
   "metadata": {
    "collapsed": true
   },
   "outputs": [],
   "source": [
    "import pandas as pd\n",
    "from elasticsearch import Elasticsearch\n",
    "from datetime import datetime\n",
    "from elasticsearch import helpers"
   ]
  },
  {
   "cell_type": "markdown",
   "metadata": {},
   "source": [
    "Code"
   ]
  },
  {
   "cell_type": "code",
   "execution_count": null,
   "metadata": {
    "collapsed": true
   },
   "outputs": [],
   "source": [
    "df= pd.read_csv('/home/ran/Desktop/data.log',sep=\"\\t\")\n",
    "\n",
    "es = Elasticsearch()\n",
    "j = 0\n",
    "actions = []\n",
    "for i in df.index:\n",
    "    js = df.loc[i].to_dict()\n",
    "    action = {\n",
    "        \"_index\": \"records-index\",# this is the name of the records in elastic/kibana\n",
    "        \"_type\": \"records\",\n",
    "        \"_id\": i,\n",
    "        \"_source\": {\n",
    "            \"timestamp\": datetime.now()\n",
    "            }\n",
    "        }\n",
    "    action[\"_source\"].update(js)\n",
    "    print action\n",
    "    #action[\"any\"] = js#.update(js)\n",
    "    actions.append(action)\n",
    "    j += 1\n",
    "#print actions\n",
    "helpers.bulk(es, actions)"
   ]
  }
 ],
 "metadata": {
  "kernelspec": {
   "display_name": "Python 2",
   "language": "python",
   "name": "python2"
  },
  "language_info": {
   "codemirror_mode": {
    "name": "ipython",
    "version": 2
   },
   "file_extension": ".py",
   "mimetype": "text/x-python",
   "name": "python",
   "nbconvert_exporter": "python",
   "pygments_lexer": "ipython2",
   "version": "2.7.11"
  }
 },
 "nbformat": 4,
 "nbformat_minor": 0
}
